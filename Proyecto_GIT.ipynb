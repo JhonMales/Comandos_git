{
  "nbformat": 4,
  "nbformat_minor": 0,
  "metadata": {
    "colab": {
      "provenance": [],
      "authorship_tag": "ABX9TyMkuKn+qGvnFyXBusbQcVnw",
      "include_colab_link": true
    },
    "kernelspec": {
      "name": "python3",
      "display_name": "Python 3"
    },
    "language_info": {
      "name": "python"
    }
  },
  "cells": [
    {
      "cell_type": "markdown",
      "metadata": {
        "id": "view-in-github",
        "colab_type": "text"
      },
      "source": [
        "<a href=\"https://colab.research.google.com/github/JhonMales/Comandos_git/blob/main/Proyecto_GIT.ipynb\" target=\"_parent\"><img src=\"https://colab.research.google.com/assets/colab-badge.svg\" alt=\"Open In Colab\"/></a>"
      ]
    },
    {
      "cell_type": "markdown",
      "source": [
        "*Jhon Elvis Males*"
      ],
      "metadata": {
        "id": "eKZEKhm6EmbV"
      }
    },
    {
      "cell_type": "markdown",
      "source": [
        "# **Entrenamiento**"
      ],
      "metadata": {
        "id": "a5bKap8-cmie"
      }
    },
    {
      "cell_type": "code",
      "execution_count": null,
      "metadata": {
        "id": "dWil0kLdby5g"
      },
      "outputs": [],
      "source": [
        "pip install pandas scikit-lescikit-learn"
      ]
    },
    {
      "cell_type": "markdown",
      "source": [],
      "metadata": {
        "id": "an9UkP6Ee48D"
      }
    },
    {
      "cell_type": "code",
      "source": [
        "import pandas as pd\n",
        "from sklearn.feature_extraction.text import TfidfVectorizer\n",
        "from sklearn.linear_model import LogisticRegression\n",
        "from sklearn.pipeline import Pipeline\n",
        "import joblib\n",
        "\n",
        "# Cargar los datos\n",
        "df = pd.read_csv('/content/Comandos.csv')\n",
        "\n",
        "# Crear el pipeline de scikit-learn  El pipeline consta de dos etapas\n",
        "pipeline = Pipeline([\n",
        "    ('tfidf', TfidfVectorizer()), #Convierte el texto en matriz, Divide el texto en palabras (tokens), Construye un diccionario de todas las palabras encontradas en el conjunto de datos.\n",
        "    ('clf', LogisticRegression()) #Usa clasificación binaria, predice la probabilidad de que una instancia pertenezca a una clase particular. \"El comando a la descripcion\"\n",
        "])\n",
        "#Un pipeline permite encadenar varios pasos de procesamiento, asegurando que la salida de cada paso sea la entrada del siguiente.\n",
        "\n",
        "# Entrenar el modelo\n",
        "pipeline.fit(df['Uso'], df['Comando']) #Toma la columna 'uso' como caracteristicas y 'comando' como etiquetas. Aprende a predecir el comando Git basado en descripciones en lenguaje natural.\n",
        "\n",
        "# Guardar el modelo entrenado\n",
        "joblib.dump(pipeline, 'Modelo_GIT.joblib')"
      ],
      "metadata": {
        "colab": {
          "base_uri": "https://localhost:8080/"
        },
        "id": "7-youoDmcaYF",
        "outputId": "77e47841-a62f-4d44-b19f-1a1d3f3f7684"
      },
      "execution_count": null,
      "outputs": [
        {
          "output_type": "execute_result",
          "data": {
            "text/plain": [
              "['Modelo_GIT.joblib']"
            ]
          },
          "metadata": {},
          "execution_count": 1
        }
      ]
    },
    {
      "cell_type": "code",
      "source": [
        "# Cargar el modelo entrenado\n",
        "pipeline = joblib.load('Modelo_GIT.joblib')\n",
        "\n",
        "def translate_to_git_command(user_input, model):\n",
        "    # Predecir el comando Git\n",
        "    git_command = model.predict([user_input])[0] #transforma el nuevo texto de entrada en una representación TF-IDF. La matriz . Predice el comando basado en el entrenamiento previo\n",
        "    return git_command\n",
        "\n",
        "# Interfaz simple para el usuario\n",
        "while True:\n",
        "    user_input = input(\"Escribe tu comando (o 'salir' para terminar): \") #Recibe una entrada\n",
        "    if user_input.lower() == 'salir':\n",
        "        break\n",
        "    git_command = translate_to_git_command(user_input, pipeline) #Recibe una entrada del usuario y procesa con el modelo\n",
        "    print(f\"Comando Git: {git_command}\")"
      ],
      "metadata": {
        "colab": {
          "base_uri": "https://localhost:8080/"
        },
        "id": "Sy_5A1Tlcc1s",
        "outputId": "c6fdba58-390a-49ef-d8c7-f05a1bdf5386"
      },
      "execution_count": null,
      "outputs": [
        {
          "name": "stdout",
          "output_type": "stream",
          "text": [
            "Escribe tu comando (o 'salir' para terminar): Clona repo\n",
            "Comando Git: git clone <repo>\n",
            "Escribe tu comando (o 'salir' para terminar): Actualizar el repositorio local\n",
            "Comando Git: git pull <remoto> <rama>\n",
            "Escribe tu comando (o 'salir' para terminar): salir\n"
          ]
        }
      ]
    },
    {
      "cell_type": "markdown",
      "source": [
        "# **Interfaz**"
      ],
      "metadata": {
        "id": "BNtN4rVfci_V"
      }
    },
    {
      "cell_type": "code",
      "source": [
        "import tkinter as tk\n",
        "from tkinter import messagebox\n",
        "import joblib\n",
        "\n",
        "# Cargar el modelo entrenado\n",
        "pipeline = joblib.load('Modelo_GIT.joblib')\n",
        "\n",
        "def translate_to_git_command(user_input, model):\n",
        "    git_command = model.predict([user_input])[0]\n",
        "    return git_command\n",
        "\n",
        "def on_submit():\n",
        "    user_input = entry.get()\n",
        "    if user_input.lower() == 'salir':\n",
        "        root.quit()\n",
        "    else:\n",
        "        git_command = translate_to_git_command(user_input, pipeline)\n",
        "        messagebox.showinfo(\"Comando Git\", f\"Comando Git: {git_command}\")\n",
        "\n",
        "# Crear la ventana principal\n",
        "root = tk.Tk()\n",
        "root.title(\"Traductor de Comandos Git\")\n",
        "\n",
        "# Crear un campo de entrada\n",
        "entry = tk.Entry(root, width=50)\n",
        "entry.pack(pady=10)\n",
        "\n",
        "# Crear un botón de enviar\n",
        "submit_button = tk.Button(root, text=\"Enviar\", command=on_submit)\n",
        "submit_button.pack(pady=5)\n",
        "\n",
        "# Iniciar el bucle principal\n",
        "root.mainloop()"
      ],
      "metadata": {
        "id": "gEZtoFWVclHe"
      },
      "execution_count": null,
      "outputs": []
    },
    {
      "cell_type": "markdown",
      "source": [
        "Por que usar la combinacion de **TfidfVectorizer** y **LogisticRegression**\n",
        "\n",
        "Descripciones cortas: Las descripciones cortas permiten que sea facil extraer carteristicas importantes.\n",
        "\n",
        "Variedad de comandos: Como solo hay dos columnas y un solo objetivo, permite que identifique varias opciones.\n",
        "\n",
        "Respuesta rapida: Al tener un modelo diseñado, se puede cargar rapidamente y reduce los tiempos de respuesta\n"
      ],
      "metadata": {
        "id": "LurIsxHYI47F"
      }
    }
  ]
}